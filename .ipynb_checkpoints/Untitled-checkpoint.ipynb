{
 "cells": [
  {
   "cell_type": "code",
   "execution_count": 3,
   "id": "251edb71-c74b-4d87-9b6c-657b3f587cec",
   "metadata": {},
   "outputs": [
    {
     "ename": "FileNotFoundError",
     "evalue": "[Errno 2] No such file or directory: 'sub-01_ses-baseline_pet'",
     "output_type": "error",
     "traceback": [
      "\u001b[0;31m---------------------------------------------------------------------------\u001b[0m",
      "\u001b[0;31mFileNotFoundError\u001b[0m                         Traceback (most recent call last)",
      "\u001b[0;32m/var/folders/fn/yxpfctns3ssbxhf_mcp6lzzm0000gn/T/ipykernel_69564/3366702095.py\u001b[0m in \u001b[0;36m<module>\u001b[0;34m\u001b[0m\n\u001b[1;32m      1\u001b[0m \u001b[0;32mfrom\u001b[0m \u001b[0mjson\u001b[0m \u001b[0;32mimport\u001b[0m \u001b[0mload\u001b[0m \u001b[0;32mas\u001b[0m \u001b[0mjson_load\u001b[0m\u001b[0;34m\u001b[0m\u001b[0;34m\u001b[0m\u001b[0m\n\u001b[0;32m----> 2\u001b[0;31m \u001b[0;32mwith\u001b[0m \u001b[0mopen\u001b[0m\u001b[0;34m(\u001b[0m\u001b[0;34m'sub-01_ses-baseline_pet'\u001b[0m\u001b[0;34m,\u001b[0m \u001b[0;34m'r'\u001b[0m\u001b[0;34m)\u001b[0m \u001b[0;32mas\u001b[0m \u001b[0mf\u001b[0m\u001b[0;34m:\u001b[0m\u001b[0;34m\u001b[0m\u001b[0;34m\u001b[0m\u001b[0m\n\u001b[0m\u001b[1;32m      3\u001b[0m     \u001b[0mjson_dict\u001b[0m \u001b[0;34m=\u001b[0m \u001b[0mjson_load\u001b[0m\u001b[0;34m(\u001b[0m\u001b[0mf\u001b[0m\u001b[0;34m)\u001b[0m\u001b[0;34m\u001b[0m\u001b[0;34m\u001b[0m\u001b[0m\n",
      "\u001b[0;31mFileNotFoundError\u001b[0m: [Errno 2] No such file or directory: 'sub-01_ses-baseline_pet'"
     ]
    }
   ],
   "source": [
    "    from json import load as json_load\n",
    "    with open('sub-01_ses-baseline_pet.json', 'r') as f:\n",
    "        json_dict = json_load(f)"
   ]
  },
  {
   "cell_type": "code",
   "execution_count": 4,
   "id": "eaa63fc4-2678-4c38-a4f2-14115fe329af",
   "metadata": {},
   "outputs": [
    {
     "name": "stdout",
     "output_type": "stream",
     "text": [
      "[Errno 2] No such file or directory: 'pet-analysis'\n",
      "/opt/anaconda3/envs/toydataset/temporalimage\n"
     ]
    }
   ],
   "source": [
    "cd pet-analysis"
   ]
  },
  {
   "cell_type": "code",
   "execution_count": 5,
   "id": "dcf5da40-c8c1-4037-b075-2070b5794d3c",
   "metadata": {},
   "outputs": [
    {
     "ename": "NameError",
     "evalue": "name 'opt' is not defined",
     "output_type": "error",
     "traceback": [
      "\u001b[0;31m---------------------------------------------------------------------------\u001b[0m",
      "\u001b[0;31mNameError\u001b[0m                                 Traceback (most recent call last)",
      "\u001b[0;32m/var/folders/fn/yxpfctns3ssbxhf_mcp6lzzm0000gn/T/ipykernel_69564/1671404831.py\u001b[0m in \u001b[0;36m<module>\u001b[0;34m\u001b[0m\n\u001b[0;32m----> 1\u001b[0;31m \u001b[0mopt\u001b[0m\u001b[0;34m/\u001b[0m\u001b[0manaconda3\u001b[0m\u001b[0;34m/\u001b[0m\u001b[0menvs\u001b[0m\u001b[0;34m/\u001b[0m\u001b[0mtoydataset\u001b[0m\u001b[0;34m(\u001b[0m\u001b[0;34m)\u001b[0m\u001b[0;34m\u001b[0m\u001b[0;34m\u001b[0m\u001b[0m\n\u001b[0m",
      "\u001b[0;31mNameError\u001b[0m: name 'opt' is not defined"
     ]
    }
   ],
   "source": [
    "/opt/anaconda3/envs/toydataset"
   ]
  },
  {
   "cell_type": "code",
   "execution_count": 6,
   "id": "9fb84bc1-efe0-446b-8d38-2b29188cac5c",
   "metadata": {},
   "outputs": [
    {
     "name": "stdout",
     "output_type": "stream",
     "text": [
      "/opt/anaconda3/envs/toydataset\n"
     ]
    }
   ],
   "source": [
    "cd /opt/anaconda3/envs/toydataset\n"
   ]
  },
  {
   "cell_type": "code",
   "execution_count": 7,
   "id": "63206e7e-784e-40ef-935c-bd5cf3108118",
   "metadata": {},
   "outputs": [
    {
     "name": "stdout",
     "output_type": "stream",
     "text": [
      "/opt/anaconda3/envs\n"
     ]
    }
   ],
   "source": [
    "cd .."
   ]
  },
  {
   "cell_type": "code",
   "execution_count": 8,
   "id": "b80f284f-b716-4583-a238-21d53a31d684",
   "metadata": {},
   "outputs": [
    {
     "name": "stdout",
     "output_type": "stream",
     "text": [
      "/opt/anaconda3/envs/toydataset\n"
     ]
    }
   ],
   "source": [
    "cd toydataset"
   ]
  },
  {
   "cell_type": "code",
   "execution_count": 9,
   "id": "0588e9ce-22c9-4b60-9450-f4bd7b343c65",
   "metadata": {},
   "outputs": [
    {
     "name": "stdout",
     "output_type": "stream",
     "text": [
      "/opt/anaconda3/envs/toydataset/pet-analysis/tests/test_data/ds001420/sub-01/ses-baseline/pet\n"
     ]
    }
   ],
   "source": [
    "cd pet-analysis/tests/test_data/ds001420/sub-01/ses-baseline/pet"
   ]
  },
  {
   "cell_type": "code",
   "execution_count": 10,
   "id": "d148707f-256d-4969-a9fb-b26c92de4527",
   "metadata": {},
   "outputs": [],
   "source": [
    "    from json import load as json_load\n",
    "    with open('sub-01_ses-baseline_pet.json', 'r') as f:\n",
    "        json_dict = json_load(f)"
   ]
  },
  {
   "cell_type": "code",
   "execution_count": 26,
   "id": "dfa57455-2b1a-4eb2-b9f3-4000e4029f3e",
   "metadata": {},
   "outputs": [],
   "source": [
    "import pint\n",
    "import numpy as np\n",
    "from nibabel.analyze import SpatialImage\n",
    "from temporalimage import unitreg, Quantity"
   ]
  },
  {
   "cell_type": "code",
   "execution_count": 51,
   "id": "24de9c92-c9d5-41fb-be40-4f5f184156ce",
   "metadata": {},
   "outputs": [],
   "source": [
    "def _jsonread_frameTiming(jsonfilename):\n",
    "    '''\n",
    "    Read frame timing information from PET-BIDS json sidecar\n",
    "\n",
    "    Args:\n",
    "        jsonfname (str): BIDS json sidecar file name\n",
    "\n",
    "    Returns:\n",
    "        frameStart (temporalimage.Quantity):\n",
    "            vector containing the start times of each frame\n",
    "        frameEnd (temporalimage.Quantity):\n",
    "            vector containing the end times of each frame\n",
    "        json_dict (dict): json dictionary\n",
    "    '''\n",
    "    from json import load as json_load\n",
    "    with open(jsonfilename, 'r') as f:\n",
    "        json_dict = json_load(f)\n",
    "\n",
    "    if 'Time' in json_dict:\n",
    "        try:\n",
    "             # accommodate the older format\n",
    "             #\n",
    "             # Time\n",
    "             # |__FrameTimes\n",
    "             # |  |__Values\n",
    "             # |  |__Labels: frameStart, frameEnd, frameDuration\n",
    "             # |  |__Units\n",
    "             # \n",
    "\n",
    "            frameVals = np.array(json_dict['Time']['FrameTimes']['Values'])\n",
    "\n",
    "            col_frameStart = json_dict['Time']['FrameTimes']['Labels'].index('frameStart')\n",
    "            time_unit = json_dict['Time']['FrameTimes']['Units'][col_frameStart]\n",
    "            frameStart = Quantity(frameVals[:,col_frameStart], time_unit)\n",
    "\n",
    "\n",
    "            try:\n",
    "                col_frameEnd = json_dict['Time']['FrameTimes']['Labels'].index('frameEnd')\n",
    "                time_unit = json_dict['Time']['FrameTimes']['Units'][col_frameEnd]\n",
    "                frameEnd = Quantity(frameVals[:,col_frameEnd], time_unit)\n",
    "            except:\n",
    "                col_frameDuration = json_dict['Time']['FrameTimes']['Labels'].index('frameDuration')\n",
    "                time_unit = json_dict['Time']['FrameTimes']['Units'][col_frameDuration]\n",
    "                frameDuration = Quantity(frameVals[:,col_frameDuration], time_unit)\n",
    "                frameEnd = frameStart + frameDuration\n",
    "        except:\n",
    "             # Time\n",
    "             # |__FrameTimesStartUnits\n",
    "             # |__FrameTimesStart\n",
    "             # |__FrameDurationUnits\n",
    "             # |__FrameDuration\n",
    "                try:\n",
    "                 # accommodate the intermediate PET BIDS version that allowed for\n",
    "                 # different units\n",
    "                    time_unit = json_dict['Time']['FrameTimesStartUnits']\n",
    "                except:\n",
    "                    time_unit = 's'\n",
    "                    frameStart = Quantity(np.array(json_dict['Time']['FrameTimesStart']),\n",
    "                               time_unit)\n",
    "                try:\n",
    "                    time_unit = json_dict['Time']['FrameDurationUnits']\n",
    "                except:\n",
    "                    time_unit = 's'\n",
    "                    frameDuration = Quantity(np.array(json_dict['Time']['FrameDuration']),\n",
    "                                  time_unit)\n",
    "\n",
    "                    frameEnd = frameStart + frameDuration\n",
    "    else:\n",
    "\n",
    "        # we are working with the 2020 PET-BIDS format\n",
    "        # Tags:\n",
    "        # FrameDuration: Time duration of each frame in default unit seconds.\n",
    "        # FrameTimesStart: Start times for all frames relative to TimeZero in default unit seconds.\n",
    "        # ScanStart: in the default unit seconds.\n",
    "        # InjectionStart: in the default unit seconds.\n",
    "        \n",
    "        time_unit = 's'\n",
    "        frameStart = Quantity(np.array(json_dict['FrameTimesStart']),\n",
    "                               time_unit)\n",
    "        frameDuration = Quantity(np.array(json_dict['FrameDuration']),\n",
    "                                 time_unit)\n",
    "        frameEnd = frameStart + frameDuration\n",
    "\n",
    "        # ScanStart: Time of start of scan with respect to TimeZero in the default unit seconds.\n",
    "        # InjectionStart: Time of start of injection with respect to TimeZero in the default unit seconds. This corresponds to DICOM Tag (0018,1042) converted to seconds relative to TimeZero.\n",
    "       \n",
    "        # Units in our format: \"ScanStartUnits\": \"hh:mm:ss\"; \"InjectionStartUnits\": \"hh:mm:ss\".\n",
    "        # In the current PET-BIDS format: TimeZero should be equal to InjectionStart or ScanStart.\n",
    "        # TimeZero: in the unit \"hh:mm:ss\"; Time zero to which all scan and/or blood measurements have been adjusted to.\n",
    "        InjectionStart = json_dict['TimeZero']\n",
    "        ScanStart = json_dict['TimeZero']\n",
    "\n",
    "    return frameStart, frameEnd, json_dict\n",
    "\n",
    "\n",
    "\n"
   ]
  },
  {
   "cell_type": "code",
   "execution_count": 53,
   "id": "f737004c-fb1c-465e-bfb9-7f603795b7ca",
   "metadata": {},
   "outputs": [],
   "source": [
    "def _jsonwrite_frameTiming(frameStart, frameEnd,\n",
    "                           jsonfilename, json_dict={}, time_unit='sec'):\n",
    "    '''\n",
    "    Write PET-BIDS style json sidecar\n",
    "\n",
    "    Args:\n",
    "        frameStart (temporalimage.Quantity):\n",
    "            vector containing the start times of each frame\n",
    "        frameEnd (temporalimage.Quantity):\n",
    "            vector containing the end times of each frame\n",
    "        jsonfilename (str): output path\n",
    "        json_dict (dict): json dictionary\n",
    "        time_unit (str): units of time to be used in the output json\n",
    "    '''\n",
    "    #json_dict['Time'] = { 'FrameTimes': {\n",
    "    #                        'Labels': ['frameStart', 'frameEnd'],\n",
    "    #                        'Units': [time_unit, time_unit],\n",
    "    #                        'Values': np.vstack((\n",
    "    #                                  frameStart.to(time_unit).magnitude,\n",
    "    #                                  frameEnd.to(time_unit).magnitude)).T.tolist()\n",
    "    #                       } }\n",
    "\n",
    "    json_dict['Time'] = {\n",
    "        #'ScanStart' : json_dict['TimeZero']\n",
    "        #'ScanStartUnits': timezero_unit\n",
    "        #'InjectionStart' : json_dict['TimeZero']\n",
    "        #'InjectionStartUnits': timezero_unit\n",
    "        'FrameTimesStart': frameStart.to(time_unit).magnitude,\n",
    "        'FrameTimesStartUnits': time_unit,\n",
    "        'FrameDuration': (frameEnd - frameStart).to(time_unit).magnitude,\n",
    "        'FrameDurationUnits': time_unit\n",
    "    }\n",
    "\n",
    "    with open('sub-01_ses-baseline_pet.json', 'w') as f:\n",
    "        json.dump(json_dict, f)"
   ]
  },
  {
   "cell_type": "code",
   "execution_count": 54,
   "id": "b87d0440-a576-47cb-8f9d-f19b5a4cf9bc",
   "metadata": {},
   "outputs": [],
   "source": [
    "def load(filename, timingfilename, **kwargs):\n",
    "    '''\n",
    "    Load a temporal image\n",
    "\n",
    "    Args:\n",
    "        filename (str): path to 4D image file to load\n",
    "        timingfilename (str): path to csv file containing frame timing information\n",
    "\n",
    "    Returns:\n",
    "        ti (temporalimage.TemporalImage): the temporal image object\n",
    "    '''\n",
    "    from nibabel import load as nibload\n",
    "    import os.path as op\n",
    "\n",
    "    if not op.exists(filename):\n",
    "        raise FileNotFoundError(\"No such file: '%s'\" % filename)\n",
    "\n",
    "    if not op.exists(timingfilename):\n",
    "        raise FileNotFoundError(\"No such file: '%s'\" % timingfilename)\n",
    "\n",
    "    img = nibload(filename, **kwargs)\n",
    "\n",
    "    _, timingfileext = op.splitext(timingfilename)\n",
    "    if timingfileext=='.csv':\n",
    "        frameStart, frameEnd = _csvread_frameTiming(timingfilename)\n",
    "        sif_header = ''\n",
    "        json_dict = {}\n",
    "    elif timingfileext=='.sif':\n",
    "        frameStart, frameEnd, sif_header = _sifread_frameTiming(timingfilename)\n",
    "        json_dict = {}\n",
    "    elif timingfileext=='.json':\n",
    "        frameStart, frameEnd, json_dict = _jsonread_frameTiming(timingfilename)\n",
    "        sif_header = ''\n",
    "    else:\n",
    "        raise IOError('Timing files with extension ' + timingfileext + ' are not supported')\n",
    "\n",
    "    ti = TemporalImage(img.dataobj, img.affine, frameStart, frameEnd,\n",
    "                       header=img.header, extra=img.extra, file_map=img.file_map,\n",
    "                       sif_header=sif_header, json_dict=json_dict)\n",
    "    return ti"
   ]
  },
  {
   "cell_type": "code",
   "execution_count": 55,
   "id": "cf106ae0-2fc2-4da4-8603-bef5629a0931",
   "metadata": {},
   "outputs": [],
   "source": [
    "def save(img, filename, timingfilename, time_unit=None):\n",
    "    '''\n",
    "    Save a temporal image\n",
    "\n",
    "    Args:\n",
    "        img (temporalimage.TemporalImage): temporal 4D image to save\n",
    "        filename (str): output image file name\n",
    "        timingfilename (str): output file name for timing information\n",
    "        time_unit (str): units of time to be used in the output\n",
    "    '''\n",
    "    from nibabel import save as nibsave\n",
    "    import os.path as op\n",
    "\n",
    "    nibsave(img, filename)\n",
    "\n",
    "    _, timingfileext = op.splitext(timingfilename)\n",
    "    if timingfileext=='.csv':\n",
    "        _csvwrite_frameTiming(img.frameStart, img.frameEnd, timingfilename,\n",
    "                              time_unit='min' if time_unit is None else time_unit)\n",
    "    elif timingfileext=='.sif':\n",
    "        _sifwrite_frameTiming(img.frameStart, img.frameEnd, timingfilename,\n",
    "                              sif_header=img.sif_header)\n",
    "    elif timingfileext=='.json':\n",
    "        _jsonwrite_frameTiming(img.frameStart, img.frameEnd, timingfilename,\n",
    "                               json_dict=img.json_dict,\n",
    "                               time_unit='sec' if time_unit is None else time_unit)\n",
    "    else:\n",
    "        raise IOError('Timing files with extension ' + timingfileext + ' are not supported')\n"
   ]
  },
  {
   "cell_type": "code",
   "execution_count": null,
   "id": "bff76cb6-ee0c-486a-b0ab-fb722d3aa1b2",
   "metadata": {},
   "outputs": [],
   "source": []
  },
  {
   "cell_type": "code",
   "execution_count": null,
   "id": "dba36ffa-51f6-4fd2-a8f1-3f757e425a51",
   "metadata": {},
   "outputs": [],
   "source": [
    "\n"
   ]
  },
  {
   "cell_type": "code",
   "execution_count": null,
   "id": "42533fc5-be29-464b-a1c8-f1908ea1e204",
   "metadata": {},
   "outputs": [],
   "source": []
  }
 ],
 "metadata": {
  "kernelspec": {
   "display_name": "Python [conda env:toydataset] *",
   "language": "python",
   "name": "conda-env-toydataset-py"
  },
  "language_info": {
   "codemirror_mode": {
    "name": "ipython",
    "version": 3
   },
   "file_extension": ".py",
   "mimetype": "text/x-python",
   "name": "python",
   "nbconvert_exporter": "python",
   "pygments_lexer": "ipython3",
   "version": "3.9.6"
  }
 },
 "nbformat": 4,
 "nbformat_minor": 5
}
