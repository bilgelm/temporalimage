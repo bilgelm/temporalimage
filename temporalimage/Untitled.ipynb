{
 "cells": [
  {
   "cell_type": "code",
   "execution_count": 3,
   "id": "050246ec-73cc-4bd7-b810-0b0b6bf96487",
   "metadata": {},
   "outputs": [],
   "source": [
    "import numpy as np\n",
    "frameStart_arr = np.array([0, 10, 20, 30, 40, 50, 60, 80, 100, 120, 150, 180, 210, 240, 270, 300, 360, 420, 480, 540, 600, 720, 840, 960, 1080, 1200, 1500, 1800, 2100, 2337, 2616, 2916])\n",
    "frameDuration_arr = np.array([10, 10, 10, 10, 10, 10, 20, 20, 20, 30, 30, 30, 30, 30, 30, 60, 60, 60, 60, 60, 120, 120, 120, 120, 120, 300, 300, 300, 237, 279, 300, 300])\n"
   ]
  },
  {
   "cell_type": "code",
   "execution_count": 4,
   "id": "33aa4783-4db6-4533-9b09-039f80f75d4f",
   "metadata": {},
   "outputs": [],
   "source": [
    "End =frameStart_arr + frameDuration_arr"
   ]
  },
  {
   "cell_type": "code",
   "execution_count": 5,
   "id": "948a6eaf-52d5-4b3e-8368-3f59e33c3dbc",
   "metadata": {},
   "outputs": [
    {
     "data": {
      "text/plain": [
       "array([  10,   20,   30,   40,   50,   60,   80,  100,  120,  150,  180,\n",
       "        210,  240,  270,  300,  360,  420,  480,  540,  600,  720,  840,\n",
       "        960, 1080, 1200, 1500, 1800, 2100, 2337, 2616, 2916, 3216])"
      ]
     },
     "execution_count": 5,
     "metadata": {},
     "output_type": "execute_result"
    }
   ],
   "source": [
    "End\n"
   ]
  },
  {
   "cell_type": "code",
   "execution_count": 6,
   "id": "e24b7866-f8cf-45dd-87bb-d11ad51a026f",
   "metadata": {},
   "outputs": [],
   "source": [
    "import temporalimage"
   ]
  },
  {
   "cell_type": "code",
   "execution_count": 18,
   "id": "01451e37-96cc-4058-b735-16dce75520c8",
   "metadata": {},
   "outputs": [],
   "source": [
    "import unittest\n",
    "import numpy as np\n",
    "import json\n",
    "import jsonschema\n",
    "from jsonschema import validate\n",
    "from temporalimage import Quantity\n",
    "from temporalimage.t4d import _jsonread_frameTiming"
   ]
  },
  {
   "cell_type": "code",
   "execution_count": 19,
   "id": "86e52369-070d-4727-aea4-f614eee0ed6c",
   "metadata": {},
   "outputs": [],
   "source": [
    "frameStart_arr = np.array([0, 10, 20, 30, 40, 50, 60, 80, 100, 120, 150, 180, 210, 240, 270, 300, 360, 420, 480, 540, 600, 720, 840, 960, 1080, 1200, 1500, 1800, 2100, 2337, 2616, 2916])\n",
    "frameDuration_arr = np.array([10, 10, 10, 10, 10, 10, 20, 20, 20, 30, 30, 30, 30, 30, 30, 60, 60, 60, 60, 60, 120, 120, 120, 120, 120, 300, 300, 300, 237, 279, 300, 300])\n"
   ]
  },
  {
   "cell_type": "code",
   "execution_count": 24,
   "id": "82861fd3-1b48-4192-95ef-d65c94cdfb02",
   "metadata": {},
   "outputs": [
    {
     "ename": "IndentationError",
     "evalue": "unindent does not match any outer indentation level (<tokenize>, line 4)",
     "output_type": "error",
     "traceback": [
      "\u001b[0;36m  File \u001b[0;32m\"<tokenize>\"\u001b[0;36m, line \u001b[0;32m4\u001b[0m\n\u001b[0;31m    frameStart, frameEnd, jsonDict = _jsonread_frameTiming(jsonTestFile)\u001b[0m\n\u001b[0m    ^\u001b[0m\n\u001b[0;31mIndentationError\u001b[0m\u001b[0;31m:\u001b[0m unindent does not match any outer indentation level\n"
     ]
    }
   ],
   "source": [
    "class TestJsonFormat(unittest.TestCase):\n",
    "    def setUp(self):\n",
    "\t    jsonTestFile = \"/opt/anaconda3/envs/toydataset/pet-analysis/tests/test_data/ds001420/sub-01/ses-baseline/pet/sub-01_ses-baseline_pet.json\"\n",
    "        frameStart, frameEnd, jsonDict = _jsonread_frameTiming(jsonTestFile)\n",
    "        #self.frame_Start = _jsonread_frameTiming(jsonTestFile,frameStart)\n",
    "        #self.frame_End = _jsonread_frameTiming(jsonTestFile, frameEnd)\n",
    "        #self.json_Dict = _jsonread_frameTiming(jsonTestFile, jsonDict)\n",
    "    def test_jsonread_frameTiming(self):\n",
    "        self.assertEqual(frame_Start, np.allclose(frameStart_arr))\n",
    "        self.assertEqual(frame_End, np.allclose(frameStart_arr + frameDuration_arr))"
   ]
  },
  {
   "cell_type": "code",
   "execution_count": 25,
   "id": "f93227b6-44e3-4f4a-8eac-cd7dc0fa3a3e",
   "metadata": {},
   "outputs": [],
   "source": [
    "class TestJsonFormat(unittest.TestCase):\n",
    "    def setUp(self):\n",
    "        jsonTestFile = \"/opt/anaconda3/envs/toydataset/pet-analysis/tests/test_data/ds001420/sub-01/ses-baseline/pet/sub-01_ses-baseline_pet.json\"\n",
    "        frameStart, frameEnd, jsonDict = _jsonread_frameTiming(jsonTestFile)\n",
    "    def test_jsonread_frameTiming(self):\n",
    "        self.assertEqual(frame_Start, np.allclose(frameStart_arr))\n",
    "        self.assertEqual(frame_End, np.allclose(frameStart_arr + frameDuration_arr))\n",
    "        \n",
    "    "
   ]
  },
  {
   "cell_type": "code",
   "execution_count": 26,
   "id": "d885c19a-576e-467c-94aa-02919cc9454f",
   "metadata": {},
   "outputs": [],
   "source": [
    "jsonTestFile = \"/opt/anaconda3/envs/toydataset/pet-analysis/tests/test_data/ds001420/sub-01/ses-baseline/pet/sub-01_ses-baseline_pet.json\"\n",
    "frameStart, frameEnd, jsonDict = _jsonread_frameTiming(jsonTestFile)"
   ]
  },
  {
   "cell_type": "code",
   "execution_count": 27,
   "id": "432ea0f3-e229-4eb6-8f99-ffacc4f0f6d9",
   "metadata": {},
   "outputs": [
    {
     "data": {
      "text/html": [
       "<table><tbody><tr><th>Magnitude</th><td style='text-align:left;'><pre>[   0   10   20   30   40   50   60   80  100  120  150  180  210  240<br>  270  300  360  420  480  540  600  720  840  960 1080 1200 1500 1800<br> 2100 2337 2616 2916]</pre></td></tr><tr><th>Units</th><td style='text-align:left;'>second</td></tr></tbody></table>"
      ],
      "text/latex": [
       "$\\begin{pmatrix}0 & 10 & 20 & 30 & 40 & 50 & 60 & 80 & 100 & 120 & 150 & 180 & 210 & 240 & 270 & 300 & 360 & 420 & 480 & 540 & 600 & 720 & 840 & 960 & 1080 & 1200 & 1500 & 1800 & 2100 & 2337 & 2616 & 2916\\end{pmatrix}\\ \\mathrm{second}$"
      ],
      "text/plain": [
       "array([   0,   10,   20,   30,   40,   50,   60,   80,  100,  120,  150,\n",
       "        180,  210,  240,  270,  300,  360,  420,  480,  540,  600,  720,\n",
       "        840,  960, 1080, 1200, 1500, 1800, 2100, 2337, 2616, 2916]) <Unit('second')>"
      ]
     },
     "execution_count": 27,
     "metadata": {},
     "output_type": "execute_result"
    }
   ],
   "source": [
    "frameStart"
   ]
  },
  {
   "cell_type": "code",
   "execution_count": 28,
   "id": "b36d428a-35e9-4d5c-9f16-b0c164ae0fbd",
   "metadata": {},
   "outputs": [
    {
     "data": {
      "text/html": [
       "<table><tbody><tr><th>Magnitude</th><td style='text-align:left;'><pre>[  10   20   30   40   50   60   80  100  120  150  180  210  240  270<br>  300  360  420  480  540  600  720  840  960 1080 1200 1500 1800 2100<br> 2337 2616 2916 3216]</pre></td></tr><tr><th>Units</th><td style='text-align:left;'>second</td></tr></tbody></table>"
      ],
      "text/latex": [
       "$\\begin{pmatrix}10 & 20 & 30 & 40 & 50 & 60 & 80 & 100 & 120 & 150 & 180 & 210 & 240 & 270 & 300 & 360 & 420 & 480 & 540 & 600 & 720 & 840 & 960 & 1080 & 1200 & 1500 & 1800 & 2100 & 2337 & 2616 & 2916 & 3216\\end{pmatrix}\\ \\mathrm{second}$"
      ],
      "text/plain": [
       "array([  10,   20,   30,   40,   50,   60,   80,  100,  120,  150,  180,\n",
       "        210,  240,  270,  300,  360,  420,  480,  540,  600,  720,  840,\n",
       "        960, 1080, 1200, 1500, 1800, 2100, 2337, 2616, 2916, 3216]) <Unit('second')>"
      ]
     },
     "execution_count": 28,
     "metadata": {},
     "output_type": "execute_result"
    }
   ],
   "source": [
    "frameEnd"
   ]
  },
  {
   "cell_type": "code",
   "execution_count": 29,
   "id": "574bb96e-4942-476a-a824-f562087f4460",
   "metadata": {},
   "outputs": [
    {
     "data": {
      "text/plain": [
       "{'Manufacturer': 'Siemens',\n",
       " 'ManufacturersModelName': 'High-Resolution Research Tomograph (HRRT, CTI/Siemens)',\n",
       " 'Units': 'Bq/mL',\n",
       " 'BodyPart': 'Brain',\n",
       " 'TracerName': 'DASB',\n",
       " 'TracerRadionuclide': 'C11',\n",
       " 'TracerMolecularWeight': 282.39,\n",
       " 'TracerMolecularWeightUnits': 'g/mol',\n",
       " 'InjectedRadioactivity': 601.648,\n",
       " 'InjectedRadioactivityUnits': 'MBq',\n",
       " 'InjectedMass': 1.55048688915159,\n",
       " 'InjectedMassUnits': 'ug',\n",
       " 'MolarActivity': 109.97,\n",
       " 'MolarActivityUnits': 'GBq/umol',\n",
       " 'SpecificRadioactivity': 389.4259711746167,\n",
       " 'SpecificRadioactivityUnits': 'MBq/ug',\n",
       " 'ModeOfAdministration': 'bolus',\n",
       " 'TimeZero': '10:33:47',\n",
       " 'ScanStart': 0,\n",
       " 'InjectionStart': 0,\n",
       " 'FrameDuration': [10,\n",
       "  10,\n",
       "  10,\n",
       "  10,\n",
       "  10,\n",
       "  10,\n",
       "  20,\n",
       "  20,\n",
       "  20,\n",
       "  30,\n",
       "  30,\n",
       "  30,\n",
       "  30,\n",
       "  30,\n",
       "  30,\n",
       "  60,\n",
       "  60,\n",
       "  60,\n",
       "  60,\n",
       "  60,\n",
       "  120,\n",
       "  120,\n",
       "  120,\n",
       "  120,\n",
       "  120,\n",
       "  300,\n",
       "  300,\n",
       "  300,\n",
       "  237,\n",
       "  279,\n",
       "  300,\n",
       "  300],\n",
       " 'FrameTimesStart': [0,\n",
       "  10,\n",
       "  20,\n",
       "  30,\n",
       "  40,\n",
       "  50,\n",
       "  60,\n",
       "  80,\n",
       "  100,\n",
       "  120,\n",
       "  150,\n",
       "  180,\n",
       "  210,\n",
       "  240,\n",
       "  270,\n",
       "  300,\n",
       "  360,\n",
       "  420,\n",
       "  480,\n",
       "  540,\n",
       "  600,\n",
       "  720,\n",
       "  840,\n",
       "  960,\n",
       "  1080,\n",
       "  1200,\n",
       "  1500,\n",
       "  1800,\n",
       "  2100,\n",
       "  2337,\n",
       "  2616,\n",
       "  2916],\n",
       " 'ReconMethodParameterLabels': ['iterations',\n",
       "  'subsets',\n",
       "  'lower_threshold',\n",
       "  'upper_threshold'],\n",
       " 'ReconMethodParameterUnits': ['none', 'none', 'keV', 'keV'],\n",
       " 'ReconMethodParameterValues': [10, 16, 0, 650],\n",
       " 'AcquisitionMode': 'list mode',\n",
       " 'ImageDecayCorrected': True,\n",
       " 'ImageDecayCorrectionTime': 0,\n",
       " 'ReconMethodName': '3D-OP-OSEM',\n",
       " 'ReconFilterType': 'none',\n",
       " 'ReconFilterSize': 0,\n",
       " 'AttenuationCorrection': '10-min transmission scan'}"
      ]
     },
     "execution_count": 29,
     "metadata": {},
     "output_type": "execute_result"
    }
   ],
   "source": [
    "jsonDict"
   ]
  },
  {
   "cell_type": "code",
   "execution_count": 30,
   "id": "ebe14410-447d-4b3f-a299-9bce0065c3c9",
   "metadata": {},
   "outputs": [],
   "source": [
    "import temporalimage\n",
    "import unittest\n",
    "import numpy as np\n",
    "import json\n",
    "from temporalimage import Quantity\n",
    "from temporalimage.t4d import _jsonread_frameTiming"
   ]
  },
  {
   "cell_type": "code",
   "execution_count": null,
   "id": "0d483e50-fb54-41fa-abf9-24e64823a4aa",
   "metadata": {},
   "outputs": [],
   "source": []
  }
 ],
 "metadata": {
  "kernelspec": {
   "display_name": "Python [conda env:toydataset] *",
   "language": "python",
   "name": "conda-env-toydataset-py"
  },
  "language_info": {
   "codemirror_mode": {
    "name": "ipython",
    "version": 3
   },
   "file_extension": ".py",
   "mimetype": "text/x-python",
   "name": "python",
   "nbconvert_exporter": "python",
   "pygments_lexer": "ipython3",
   "version": "3.9.6"
  }
 },
 "nbformat": 4,
 "nbformat_minor": 5
}
